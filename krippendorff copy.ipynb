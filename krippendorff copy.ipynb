{
 "cells": [
  {
   "cell_type": "code",
   "execution_count": 240,
   "metadata": {},
   "outputs": [
    {
     "name": "stdout",
     "output_type": "stream",
     "text": [
      "Requirement already satisfied: nltk in /Users/ivanfengjunkai/opt/anaconda3/envs/basic/lib/python3.8/site-packages (3.8.1)\n",
      "Requirement already satisfied: joblib in /Users/ivanfengjunkai/opt/anaconda3/envs/basic/lib/python3.8/site-packages (from nltk) (1.3.2)\n",
      "Requirement already satisfied: click in /Users/ivanfengjunkai/opt/anaconda3/envs/basic/lib/python3.8/site-packages (from nltk) (8.1.7)\n",
      "Requirement already satisfied: regex>=2021.8.3 in /Users/ivanfengjunkai/opt/anaconda3/envs/basic/lib/python3.8/site-packages (from nltk) (2023.10.3)\n",
      "Requirement already satisfied: tqdm in /Users/ivanfengjunkai/opt/anaconda3/envs/basic/lib/python3.8/site-packages (from nltk) (4.64.1)\n"
     ]
    }
   ],
   "source": [
    "! pip install nltk"
   ]
  },
  {
   "cell_type": "code",
   "execution_count": 241,
   "metadata": {},
   "outputs": [
    {
     "name": "stdout",
     "output_type": "stream",
     "text": [
      "Requirement already satisfied: openpyxl in /Users/ivanfengjunkai/opt/anaconda3/envs/basic/lib/python3.8/site-packages (3.1.2)\n",
      "Requirement already satisfied: et-xmlfile in /Users/ivanfengjunkai/opt/anaconda3/envs/basic/lib/python3.8/site-packages (from openpyxl) (1.1.0)\n"
     ]
    }
   ],
   "source": [
    "! pip install openpyxl"
   ]
  },
  {
   "cell_type": "code",
   "execution_count": 242,
   "metadata": {},
   "outputs": [
    {
     "name": "stdout",
     "output_type": "stream",
     "text": [
      "Requirement already satisfied: scikit-learn in /Users/ivanfengjunkai/opt/anaconda3/envs/basic/lib/python3.8/site-packages (1.3.2)\n",
      "Requirement already satisfied: threadpoolctl>=2.0.0 in /Users/ivanfengjunkai/opt/anaconda3/envs/basic/lib/python3.8/site-packages (from scikit-learn) (3.2.0)\n",
      "Requirement already satisfied: scipy>=1.5.0 in /Users/ivanfengjunkai/opt/anaconda3/envs/basic/lib/python3.8/site-packages (from scikit-learn) (1.10.1)\n",
      "Requirement already satisfied: joblib>=1.1.1 in /Users/ivanfengjunkai/opt/anaconda3/envs/basic/lib/python3.8/site-packages (from scikit-learn) (1.3.2)\n",
      "Requirement already satisfied: numpy<2.0,>=1.17.3 in /Users/ivanfengjunkai/opt/anaconda3/envs/basic/lib/python3.8/site-packages (from scikit-learn) (1.24.1)\n"
     ]
    }
   ],
   "source": [
    "! pip install -U scikit-learn"
   ]
  },
  {
   "cell_type": "code",
   "execution_count": 243,
   "metadata": {},
   "outputs": [],
   "source": [
    "from nltk.metrics.agreement import AnnotationTask\n",
    "from nltk.metrics import masi_distance\n",
    "from nltk.metrics.distance import jaccard_distance\n",
    "import pandas as pd\n",
    "import os\n",
    "from sklearn.metrics import jaccard_score\n",
    "import numpy as np\n",
    "import string"
   ]
  },
  {
   "cell_type": "code",
   "execution_count": 244,
   "metadata": {},
   "outputs": [],
   "source": [
    "high_level_mapping = {\n",
    "    'abbreviation without context':'lack of context',\n",
    "    'unclear intention': 'lack of context',\n",
    "    'write up': 'content generation',\n",
    "    'generate persona': 'content generation',\n",
    "    'exam reference': 'content generation',\n",
    "    'generate question': 'content generation',\n",
    "    'generate code template': 'content generation',\n",
    "    'code': 'content generation',\n",
    "    'generate test': 'content generation',\n",
    "    'elaboration': 'content generation',\n",
    "    'project assistance': 'content generation',\n",
    "    'summarise topic': 'summarisation',\n",
    "    'summarise literature': 'summarisation',\n",
    "    'definition': 'understand concept',\n",
    "    'understand': 'understand concept',\n",
    "    'application': 'understand concept',\n",
    "    'assistance in using application': 'it assistance',\n",
    "    'technical documentation': 'it assistance',\n",
    "    'set up': 'it assistance',\n",
    "    'debugging': 'programming assistance',\n",
    "    'code validation': 'programming assistance',\n",
    "    'code suggestion': 'programming assistance',\n",
    "    'writing refinement': 'language assistance',\n",
    "    'sensitive writing': 'language assistance',\n",
    "    'sutd-based information': 'search engine',\n",
    "    'retrieve data': 'search engine',\n",
    "    'find examples': 'search engine',\n",
    "    'industry knowledge': 'search engine',\n",
    "    'search engine query': 'search engine',\n",
    "    'avoid plagiarism detection': 'academic dishonesty',\n",
    "    'attempt to obtain answer for an assignment verbatim': 'academic dishonesty',\n",
    "    'possible academic dishonesty': 'academic dishonesty',\n",
    "    'sanity check': 'testing',\n",
    "    'testing capabilities': 'testing',\n",
    "    'gptlearn technical specification': 'clarify',\n",
    "    'role-playing': 'prompt engineering',\n",
    "    'establishing context': 'prompt engineering',\n",
    "    'structured output format': 'prompt engineering',\n",
    "    'idea validation': 'evaluation'\n",
    "}\n",
    "\n",
    "only_level1 = ['non-course related', 'follow up conversation', 'idea generation', 'malformed query', 'correcting model response', 'hallucination', 'oracle']"
   ]
  },
  {
   "cell_type": "code",
   "execution_count": 245,
   "metadata": {},
   "outputs": [
    {
     "name": "stdout",
     "output_type": "stream",
     "text": [
      "GPTLearn (2).xlsx\n",
      "GPTLearn Coding 1 - Daniel.xlsx\n",
      "GPTLearn Coding 1 - Ivan.xlsx\n"
     ]
    }
   ],
   "source": [
    "def modify_list(codes_list, code_dependency):\n",
    "    codes_list = [item.lower() for item in codes_list if item]\n",
    "    for code in codes_list:\n",
    "        if code in code_dependency.values() or code in only_level1:\n",
    "            pass\n",
    "        elif code in code_dependency.keys():\n",
    "            codes_list.append(code_dependency[code])\n",
    "        else:\n",
    "            print(f'Error: Unkown code -> {code} in the list {codes_list}')\n",
    "    return list(set(codes_list))\n",
    "\n",
    "all_data = []\n",
    "for file in os.listdir('ENCODED'):\n",
    "    if file.endswith('.xlsx') and not file.startswith('~'):\n",
    "        print(file)\n",
    "        df = pd.read_excel(os.path.join('ENCODED', file))\n",
    "        df['quotation'] = df['quotation'].str.replace(f'[{string.punctuation}]', '', regex=True)\n",
    "        df['quotation'] = df['quotation'].str.replace('\\n', '')\n",
    "        df['quotation'] = df['quotation'].str.replace(r'\\s+', '', regex=True)\n",
    "        df['quotation'] = df['quotation'].str.strip()\n",
    "        df['quotation'] = df['quotation'].str.lower()\n",
    "        df = df.sort_values(by=['document', 'quotation'])\n",
    "        # Drop the unnecessary columns\n",
    "        df = df.drop(columns=['comment'])\n",
    "\n",
    "        df['codes'] = df['codes'].fillna('')\n",
    "        df['codes'] = df['codes'].astype(str)\n",
    "        df['codes'] = df['codes'].str.split(', ')\n",
    "        df['codes'] = df['codes'].apply(lambda x: modify_list(x, high_level_mapping))\n",
    "        df['codes'] = df['codes'].apply(sorted)\n",
    "        all_data.append(df)"
   ]
  },
  {
   "cell_type": "code",
   "execution_count": 246,
   "metadata": {},
   "outputs": [],
   "source": [
    "merged_df = all_data[0].merge(all_data[1], on=['document', 'quotation'], how='outer', suffixes=('_coder1', '_coder2'))\n",
    "merged_df = merged_df.merge(all_data[2], on=['document', 'quotation'], how='outer')\n",
    "merged_df['codes_coder3'] = merged_df['codes']\n",
    "merged_df = merged_df.drop(columns=['codes'])\n",
    "merged_df['codes_coder1'] = merged_df['codes_coder1'].fillna('[]').astype(str)\n",
    "merged_df['codes_coder2'] = merged_df['codes_coder2'].fillna('[]').astype(str)\n",
    "merged_df['codes_coder3'] = merged_df['codes_coder3'].fillna('[]').astype(str)\n"
   ]
  },
  {
   "cell_type": "code",
   "execution_count": 247,
   "metadata": {},
   "outputs": [
    {
     "data": {
      "text/html": [
       "<div>\n",
       "<style scoped>\n",
       "    .dataframe tbody tr th:only-of-type {\n",
       "        vertical-align: middle;\n",
       "    }\n",
       "\n",
       "    .dataframe tbody tr th {\n",
       "        vertical-align: top;\n",
       "    }\n",
       "\n",
       "    .dataframe thead th {\n",
       "        text-align: right;\n",
       "    }\n",
       "</style>\n",
       "<table border=\"1\" class=\"dataframe\">\n",
       "  <thead>\n",
       "    <tr style=\"text-align: right;\">\n",
       "      <th></th>\n",
       "      <th>document</th>\n",
       "      <th>quotation</th>\n",
       "      <th>codes_coder1</th>\n",
       "      <th>codes_coder2</th>\n",
       "      <th>codes_coder3</th>\n",
       "    </tr>\n",
       "  </thead>\n",
       "  <tbody>\n",
       "    <tr>\n",
       "      <th>0</th>\n",
       "      <td>1.docx</td>\n",
       "      <td>explainwhattheyarethenexplainhtelinktothis</td>\n",
       "      <td>['understand', 'understand concept']</td>\n",
       "      <td>['understand', 'understand concept']</td>\n",
       "      <td>['understand', 'understand concept']</td>\n",
       "    </tr>\n",
       "    <tr>\n",
       "      <th>1</th>\n",
       "      <td>1.docx</td>\n",
       "      <td>firsthelpmefindconceptsonempathythatarerelevan...</td>\n",
       "      <td>['idea generation']</td>\n",
       "      <td>['idea generation']</td>\n",
       "      <td>['idea generation']</td>\n",
       "    </tr>\n",
       "    <tr>\n",
       "      <th>2</th>\n",
       "      <td>1.docx</td>\n",
       "      <td>•empathywalkexperiencedwhatitslikeasapregnantw...</td>\n",
       "      <td>['establishing context', 'prompt engineering']</td>\n",
       "      <td>['establishing context', 'prompt engineering']</td>\n",
       "      <td>['establishing context', 'prompt engineering']</td>\n",
       "    </tr>\n",
       "    <tr>\n",
       "      <th>3</th>\n",
       "      <td>10.docx</td>\n",
       "      <td>assumethatwehavethefollowingtrainingdataavaila...</td>\n",
       "      <td>['academic dishonesty', 'attempt to obtain ans...</td>\n",
       "      <td>['academic dishonesty', 'attempt to obtain ans...</td>\n",
       "      <td>['academic dishonesty', 'attempt to obtain ans...</td>\n",
       "    </tr>\n",
       "    <tr>\n",
       "      <th>4</th>\n",
       "      <td>100.docx</td>\n",
       "      <td>iamplanningtouseasimpleframeworksojustthebuilt...</td>\n",
       "      <td>['establishing context', 'prompt engineering']</td>\n",
       "      <td>['establishing context', 'prompt engineering']</td>\n",
       "      <td>['establishing context', 'prompt engineering']</td>\n",
       "    </tr>\n",
       "    <tr>\n",
       "      <th>...</th>\n",
       "      <td>...</td>\n",
       "      <td>...</td>\n",
       "      <td>...</td>\n",
       "      <td>...</td>\n",
       "      <td>...</td>\n",
       "    </tr>\n",
       "    <tr>\n",
       "      <th>1566</th>\n",
       "      <td>996.docx</td>\n",
       "      <td>writeanessaybasedontheprompthowdoyouseethetheo...</td>\n",
       "      <td>['content generation', 'write up']</td>\n",
       "      <td>['non-course related']</td>\n",
       "      <td>['non-course related']</td>\n",
       "    </tr>\n",
       "    <tr>\n",
       "      <th>1567</th>\n",
       "      <td>996.docx</td>\n",
       "      <td>youarea23yearolduniversitystudentwhoattended2y...</td>\n",
       "      <td>['prompt engineering', 'role-playing']</td>\n",
       "      <td>['prompt engineering', 'role-playing']</td>\n",
       "      <td>['prompt engineering', 'role-playing']</td>\n",
       "    </tr>\n",
       "    <tr>\n",
       "      <th>1568</th>\n",
       "      <td>997.docx</td>\n",
       "      <td>whatbiblecharacteristhisriddledepictingtwiceha...</td>\n",
       "      <td>['non-course related', 'understand', 'understa...</td>\n",
       "      <td>['understand', 'understand concept']</td>\n",
       "      <td>['testing', 'testing capabilities']</td>\n",
       "    </tr>\n",
       "    <tr>\n",
       "      <th>1569</th>\n",
       "      <td>998.docx</td>\n",
       "      <td>whatbiblecharacteristhisriddledepictingtwiceha...</td>\n",
       "      <td>['definition', 'non-course related', 'understa...</td>\n",
       "      <td>['understand', 'understand concept']</td>\n",
       "      <td>['testing', 'testing capabilities']</td>\n",
       "    </tr>\n",
       "    <tr>\n",
       "      <th>1570</th>\n",
       "      <td>999.docx</td>\n",
       "      <td>whatbiblecharacteristhisriddledepictingtwiceha...</td>\n",
       "      <td>['definition', 'non-course related', 'understa...</td>\n",
       "      <td>['understand', 'understand concept']</td>\n",
       "      <td>['testing', 'testing capabilities']</td>\n",
       "    </tr>\n",
       "  </tbody>\n",
       "</table>\n",
       "<p>1571 rows × 5 columns</p>\n",
       "</div>"
      ],
      "text/plain": [
       "      document                                          quotation  \\\n",
       "0       1.docx         explainwhattheyarethenexplainhtelinktothis   \n",
       "1       1.docx  firsthelpmefindconceptsonempathythatarerelevan...   \n",
       "2       1.docx  •empathywalkexperiencedwhatitslikeasapregnantw...   \n",
       "3      10.docx  assumethatwehavethefollowingtrainingdataavaila...   \n",
       "4     100.docx  iamplanningtouseasimpleframeworksojustthebuilt...   \n",
       "...        ...                                                ...   \n",
       "1566  996.docx  writeanessaybasedontheprompthowdoyouseethetheo...   \n",
       "1567  996.docx  youarea23yearolduniversitystudentwhoattended2y...   \n",
       "1568  997.docx  whatbiblecharacteristhisriddledepictingtwiceha...   \n",
       "1569  998.docx  whatbiblecharacteristhisriddledepictingtwiceha...   \n",
       "1570  999.docx  whatbiblecharacteristhisriddledepictingtwiceha...   \n",
       "\n",
       "                                           codes_coder1  \\\n",
       "0                  ['understand', 'understand concept']   \n",
       "1                                   ['idea generation']   \n",
       "2        ['establishing context', 'prompt engineering']   \n",
       "3     ['academic dishonesty', 'attempt to obtain ans...   \n",
       "4        ['establishing context', 'prompt engineering']   \n",
       "...                                                 ...   \n",
       "1566                 ['content generation', 'write up']   \n",
       "1567             ['prompt engineering', 'role-playing']   \n",
       "1568  ['non-course related', 'understand', 'understa...   \n",
       "1569  ['definition', 'non-course related', 'understa...   \n",
       "1570  ['definition', 'non-course related', 'understa...   \n",
       "\n",
       "                                           codes_coder2  \\\n",
       "0                  ['understand', 'understand concept']   \n",
       "1                                   ['idea generation']   \n",
       "2        ['establishing context', 'prompt engineering']   \n",
       "3     ['academic dishonesty', 'attempt to obtain ans...   \n",
       "4        ['establishing context', 'prompt engineering']   \n",
       "...                                                 ...   \n",
       "1566                             ['non-course related']   \n",
       "1567             ['prompt engineering', 'role-playing']   \n",
       "1568               ['understand', 'understand concept']   \n",
       "1569               ['understand', 'understand concept']   \n",
       "1570               ['understand', 'understand concept']   \n",
       "\n",
       "                                           codes_coder3  \n",
       "0                  ['understand', 'understand concept']  \n",
       "1                                   ['idea generation']  \n",
       "2        ['establishing context', 'prompt engineering']  \n",
       "3     ['academic dishonesty', 'attempt to obtain ans...  \n",
       "4        ['establishing context', 'prompt engineering']  \n",
       "...                                                 ...  \n",
       "1566                             ['non-course related']  \n",
       "1567             ['prompt engineering', 'role-playing']  \n",
       "1568                ['testing', 'testing capabilities']  \n",
       "1569                ['testing', 'testing capabilities']  \n",
       "1570                ['testing', 'testing capabilities']  \n",
       "\n",
       "[1571 rows x 5 columns]"
      ]
     },
     "execution_count": 247,
     "metadata": {},
     "output_type": "execute_result"
    }
   ],
   "source": [
    "merged_df.sort_values(by=['document', 'quotation'])"
   ]
  },
  {
   "cell_type": "code",
   "execution_count": 248,
   "metadata": {},
   "outputs": [
    {
     "name": "stdout",
     "output_type": "stream",
     "text": [
      "Krippendorff's alpha: 0.7457202409183512\n"
     ]
    }
   ],
   "source": [
    "task_data = []\n",
    "for idx, row in merged_df.iterrows():\n",
    "    try:\n",
    "        for i in range(len(all_data)):\n",
    "            person = f'codes_coder{i+1}'\n",
    "            task_data.append((person, idx, frozenset(row[person])))\n",
    "    except:\n",
    "        for i in range(len(all_data)):\n",
    "            person = f'codes_coder{i+1}'\n",
    "            print(row[person], end=\" \")\n",
    "        print()\n",
    "    \n",
    "# Initialize AnnotationTask with masi_distance\n",
    "task = AnnotationTask(distance=masi_distance)\n",
    "\n",
    "# Load the task data\n",
    "task.load_array(task_data)\n",
    "\n",
    "# Compute Krippendorff's alpha\n",
    "alpha = task.alpha()\n",
    "print(f\"Krippendorff's alpha: {alpha}\")"
   ]
  },
  {
   "cell_type": "code",
   "execution_count": 249,
   "metadata": {},
   "outputs": [],
   "source": [
    "def calculate_alpha(df):\n",
    "    task_data = []\n",
    "    for idx, row in df.iterrows():\n",
    "        try:\n",
    "            for i in range(len(all_data)):\n",
    "                person = f'codes_coder{i+1}'\n",
    "                task_data.append((person, idx, frozenset(row[person])))\n",
    "        except:\n",
    "            for i in range(len(all_data)):\n",
    "                person = f'codes_coder{i+1}'\n",
    "                print(row[person], end=\" \")\n",
    "            print()\n",
    "        \n",
    "    # Initialize AnnotationTask with masi_distance\n",
    "    task = AnnotationTask(distance=masi_distance)\n",
    "\n",
    "    # Load the task data\n",
    "    task.load_array(task_data)\n",
    "\n",
    "    # Compute Krippendorff's alpha\n",
    "    alpha = task.alpha()\n",
    "    print(f\"Krippendorff's alpha: {alpha}\")\n",
    "    return alpha"
   ]
  },
  {
   "cell_type": "code",
   "execution_count": 250,
   "metadata": {},
   "outputs": [
    {
     "name": "stdout",
     "output_type": "stream",
     "text": [
      "Krippendorff's alpha: 0.4036383546222746\n",
      "Krippendorff's alpha: 0.7809572906768107\n",
      "Krippendorff's alpha: 0.7457202409183512\n"
     ]
    },
    {
     "data": {
      "text/plain": [
       "0.7457202409183512"
      ]
     },
     "execution_count": 250,
     "metadata": {},
     "output_type": "execute_result"
    }
   ],
   "source": [
    "criteria = 0.4\n",
    "selected_rows = []\n",
    "rejected_rows = []\n",
    "for idx, row in merged_df.iterrows():\n",
    "\n",
    "    coder1_labels = frozenset(row['codes_coder1'])\n",
    "    coder2_labels = frozenset(row['codes_coder2'])\n",
    "    coder3_labels = frozenset(row['codes_coder3'])\n",
    "\n",
    "    distance = masi_distance(coder1_labels, coder2_labels)\n",
    "    if distance < criteria:\n",
    "        distance = masi_distance(coder1_labels, coder3_labels)\n",
    "        if distance > criteria:\n",
    "            distance = masi_distance(coder1_labels, coder3_labels)\n",
    "            if distance > criteria:\n",
    "                row['distance'] = distance\n",
    "                selected_rows.append(row)\n",
    "                continue\n",
    "    rejected_rows.append(row)\n",
    "                \n",
    "high_distance_df = pd.DataFrame(selected_rows)\n",
    "low_distance_df = pd.DataFrame(rejected_rows)\n",
    "assert high_distance_df.shape[0] + low_distance_df.shape[0] == merged_df.shape[0]\n",
    "calculate_alpha(high_distance_df)\n",
    "calculate_alpha(low_distance_df)\n",
    "calculate_alpha(merged_df)"
   ]
  },
  {
   "cell_type": "code",
   "execution_count": 251,
   "metadata": {},
   "outputs": [],
   "source": [
    "low_distance_df.to_excel(\"low_distance_df.xlsx\")  "
   ]
  },
  {
   "cell_type": "code",
   "execution_count": 252,
   "metadata": {},
   "outputs": [],
   "source": [
    "high_distance_df.to_excel(\"high_distance_df.xlsx\")  "
   ]
  },
  {
   "cell_type": "code",
   "execution_count": null,
   "metadata": {},
   "outputs": [],
   "source": []
  }
 ],
 "metadata": {
  "kernelspec": {
   "display_name": "basic",
   "language": "python",
   "name": "basic"
  },
  "language_info": {
   "codemirror_mode": {
    "name": "ipython",
    "version": 3
   },
   "file_extension": ".py",
   "mimetype": "text/x-python",
   "name": "python",
   "nbconvert_exporter": "python",
   "pygments_lexer": "ipython3",
   "version": "3.8.15"
  }
 },
 "nbformat": 4,
 "nbformat_minor": 2
}
